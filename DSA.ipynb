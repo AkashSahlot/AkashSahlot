{
  "nbformat": 4,
  "nbformat_minor": 0,
  "metadata": {
    "colab": {
      "provenance": [],
      "authorship_tag": "ABX9TyO4T3AoLdLVUwobQMAKKCvi",
      "include_colab_link": true
    },
    "kernelspec": {
      "name": "python3",
      "display_name": "Python 3"
    },
    "language_info": {
      "name": "python"
    }
  },
  "cells": [
    {
      "cell_type": "markdown",
      "metadata": {
        "id": "view-in-github",
        "colab_type": "text"
      },
      "source": [
        "<a href=\"https://colab.research.google.com/github/AkashSahlot/AkashSahlot/blob/main/DSA.ipynb\" target=\"_parent\"><img src=\"https://colab.research.google.com/assets/colab-badge.svg\" alt=\"Open In Colab\"/></a>"
      ]
    },
    {
      "cell_type": "markdown",
      "source": [
        "# ARRAY"
      ],
      "metadata": {
        "id": "TnexxSm9moFk"
      }
    },
    {
      "cell_type": "markdown",
      "source": [
        "## 1.  Reverse the Array"
      ],
      "metadata": {
        "id": "NVY7nAUUmyQQ"
      }
    },
    {
      "cell_type": "code",
      "source": [
        "array=[1,2,3,4,5]\n",
        "\n",
        "def Reverse_Array(array):\n",
        "  reversed_array=array[::-1]\n",
        "  return reversed_array\n",
        "\n",
        "Reverse_Array(array)"
      ],
      "metadata": {
        "colab": {
          "base_uri": "https://localhost:8080/"
        },
        "id": "ldWGSKU8mlIz",
        "outputId": "cad9e151-5f53-4d06-b553-b43c3f3640ed"
      },
      "execution_count": 1,
      "outputs": [
        {
          "output_type": "execute_result",
          "data": {
            "text/plain": [
              "[5, 4, 3, 2, 1]"
            ]
          },
          "metadata": {},
          "execution_count": 1
        }
      ]
    },
    {
      "cell_type": "markdown",
      "source": [],
      "metadata": {
        "id": "tfzQhZhMndgV"
      }
    },
    {
      "cell_type": "code",
      "source": [],
      "metadata": {
        "id": "N8x7oR2ImmZh"
      },
      "execution_count": null,
      "outputs": []
    },
    {
      "cell_type": "code",
      "execution_count": null,
      "metadata": {
        "id": "xLSxz4-MmiAo"
      },
      "outputs": [],
      "source": []
    }
  ]
}